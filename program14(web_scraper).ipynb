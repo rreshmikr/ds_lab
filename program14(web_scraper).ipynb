{
  "nbformat": 4,
  "nbformat_minor": 0,
  "metadata": {
    "colab": {
      "name": "program14(web scraper).ipynb",
      "provenance": [],
      "collapsed_sections": [],
      "authorship_tag": "ABX9TyNn/H0efEV8tXjyP38CrCkw",
      "include_colab_link": true
    },
    "kernelspec": {
      "name": "python3",
      "display_name": "Python 3"
    },
    "language_info": {
      "name": "python"
    }
  },
  "cells": [
    {
      "cell_type": "markdown",
      "metadata": {
        "id": "view-in-github",
        "colab_type": "text"
      },
      "source": [
        "<a href=\"https://colab.research.google.com/github/rreshmikr/ds_lab/blob/main/program14(web_scraper).ipynb\" target=\"_parent\"><img src=\"https://colab.research.google.com/assets/colab-badge.svg\" alt=\"Open In Colab\"/></a>"
      ]
    },
    {
      "cell_type": "code",
      "execution_count": 1,
      "metadata": {
        "colab": {
          "base_uri": "https://localhost:8080/"
        },
        "id": "x0hXGmZayAe9",
        "outputId": "54605a1e-6d59-4bf5-82f6-5a805826d069"
      },
      "outputs": [
        {
          "output_type": "stream",
          "name": "stdout",
          "text": [
            "Collecting git+https://github.com/alirezamika/autoscraper.git\n",
            "  Cloning https://github.com/alirezamika/autoscraper.git to /tmp/pip-req-build-ylbn1eff\n",
            "  Running command git clone -q https://github.com/alirezamika/autoscraper.git /tmp/pip-req-build-ylbn1eff\n",
            "Requirement already satisfied: requests in /usr/local/lib/python3.7/dist-packages (from autoscraper==1.1.12) (2.23.0)\n",
            "Requirement already satisfied: bs4 in /usr/local/lib/python3.7/dist-packages (from autoscraper==1.1.12) (0.0.1)\n",
            "Requirement already satisfied: lxml in /usr/local/lib/python3.7/dist-packages (from autoscraper==1.1.12) (4.2.6)\n",
            "Requirement already satisfied: beautifulsoup4 in /usr/local/lib/python3.7/dist-packages (from bs4->autoscraper==1.1.12) (4.6.3)\n",
            "Requirement already satisfied: urllib3!=1.25.0,!=1.25.1,<1.26,>=1.21.1 in /usr/local/lib/python3.7/dist-packages (from requests->autoscraper==1.1.12) (1.24.3)\n",
            "Requirement already satisfied: chardet<4,>=3.0.2 in /usr/local/lib/python3.7/dist-packages (from requests->autoscraper==1.1.12) (3.0.4)\n",
            "Requirement already satisfied: idna<3,>=2.5 in /usr/local/lib/python3.7/dist-packages (from requests->autoscraper==1.1.12) (2.10)\n",
            "Requirement already satisfied: certifi>=2017.4.17 in /usr/local/lib/python3.7/dist-packages (from requests->autoscraper==1.1.12) (2021.10.8)\n",
            "Building wheels for collected packages: autoscraper\n",
            "  Building wheel for autoscraper (setup.py) ... \u001b[?25l\u001b[?25hdone\n",
            "  Created wheel for autoscraper: filename=autoscraper-1.1.12-py3-none-any.whl size=10048 sha256=1695f74fb7a2737fa199937d8a8346fae331ee39af83379c21580fde32f0b1c9\n",
            "  Stored in directory: /tmp/pip-ephem-wheel-cache-7q0_d05e/wheels/31/9d/56/6263a49f4fc2b82138579d99b7303489c482c89acbaef59326\n",
            "Successfully built autoscraper\n",
            "Installing collected packages: autoscraper\n",
            "Successfully installed autoscraper-1.1.12\n"
          ]
        }
      ],
      "source": [
        "pip install git+https://github.com/alirezamika/autoscraper.git"
      ]
    },
    {
      "cell_type": "code",
      "source": [
        "pip install autoscraper"
      ],
      "metadata": {
        "colab": {
          "base_uri": "https://localhost:8080/"
        },
        "id": "5PyVuqjDygM5",
        "outputId": "9aeca247-b389-456d-d26c-0ed70c120dbe"
      },
      "execution_count": 2,
      "outputs": [
        {
          "output_type": "stream",
          "name": "stdout",
          "text": [
            "Requirement already satisfied: autoscraper in /usr/local/lib/python3.7/dist-packages (1.1.12)\n",
            "Requirement already satisfied: lxml in /usr/local/lib/python3.7/dist-packages (from autoscraper) (4.2.6)\n",
            "Requirement already satisfied: requests in /usr/local/lib/python3.7/dist-packages (from autoscraper) (2.23.0)\n",
            "Requirement already satisfied: bs4 in /usr/local/lib/python3.7/dist-packages (from autoscraper) (0.0.1)\n",
            "Requirement already satisfied: beautifulsoup4 in /usr/local/lib/python3.7/dist-packages (from bs4->autoscraper) (4.6.3)\n",
            "Requirement already satisfied: certifi>=2017.4.17 in /usr/local/lib/python3.7/dist-packages (from requests->autoscraper) (2021.10.8)\n",
            "Requirement already satisfied: idna<3,>=2.5 in /usr/local/lib/python3.7/dist-packages (from requests->autoscraper) (2.10)\n",
            "Requirement already satisfied: urllib3!=1.25.0,!=1.25.1,<1.26,>=1.21.1 in /usr/local/lib/python3.7/dist-packages (from requests->autoscraper) (1.24.3)\n",
            "Requirement already satisfied: chardet<4,>=3.0.2 in /usr/local/lib/python3.7/dist-packages (from requests->autoscraper) (3.0.4)\n"
          ]
        }
      ]
    },
    {
      "cell_type": "code",
      "source": [
        "from autoscraper import AutoScraper"
      ],
      "metadata": {
        "id": "beMYDgr3y-pX"
      },
      "execution_count": 6,
      "outputs": []
    },
    {
      "cell_type": "code",
      "source": [
        "url = 'https://onlymyenglish.com/fruits-name-english/'\n",
        "wanted_list = ['Confusion Matrix: Detailed intuition and trick to learn']"
      ],
      "metadata": {
        "id": "LpxIt6Q1zIa4"
      },
      "execution_count": 12,
      "outputs": []
    },
    {
      "cell_type": "code",
      "source": [
        "scraper = AutoScraper()"
      ],
      "metadata": {
        "id": "tdO__pEpzTnf"
      },
      "execution_count": 13,
      "outputs": []
    },
    {
      "cell_type": "code",
      "source": [
        "scraper = AutoScraper()\n",
        "result = scraper.build(url, wanted_list)\n",
        "print(result)\n"
      ],
      "metadata": {
        "colab": {
          "base_uri": "https://localhost:8080/"
        },
        "id": "FZTlhBv2zU4g",
        "outputId": "360bb245-4c55-4628-f9d8-78188add7697"
      },
      "execution_count": 14,
      "outputs": [
        {
          "output_type": "stream",
          "name": "stdout",
          "text": [
            "[]\n"
          ]
        }
      ]
    },
    {
      "cell_type": "code",
      "source": [
        "url = 'https://onlymyenglish.com/fruits-name-english/'\n",
        "wanted_list = ['Papaya']\n",
        "scraper = AutoScraper()\n",
        "result = scraper.build(url, wanted_list)\n",
        "print(result)"
      ],
      "metadata": {
        "colab": {
          "base_uri": "https://localhost:8080/"
        },
        "id": "1Qr8GrIozYJo",
        "outputId": "73a62ec9-11dd-41cf-da10-72b0389e36ae"
      },
      "execution_count": 16,
      "outputs": [
        {
          "output_type": "stream",
          "name": "stdout",
          "text": [
            "['Papaya', 'Apple', 'Mango', 'Banana', 'Orange', 'Grapes', 'Pineapple', 'Pomegranate', 'Avocado', 'Coconut', 'Watermelon', 'Dragonfruit', 'Strawberry', 'Blueberry', 'Blackberry', 'Gooseberry', 'Cherry', 'Apricot', 'Kiwi fruit', 'Lime', 'Peach', 'Pear', 'Tamarind', 'Custard-Apple', 'Fig', 'Guava', 'MuskMelon', 'Olives', 'Java Plum', 'Fruits Name', 'Oranges', 'Grape', 'Blueberries', 'Blackberries', 'jackfruit', 'Kiwifruit', 'Jackfruit']\n"
          ]
        }
      ]
    },
    {
      "cell_type": "code",
      "source": [
        "scraper.save('blogs') "
      ],
      "metadata": {
        "id": "0A7FEtAe7m-T"
      },
      "execution_count": 17,
      "outputs": []
    },
    {
      "cell_type": "code",
      "source": [
        "scraper.load('blogs')"
      ],
      "metadata": {
        "id": "nldI5VQP7rzA"
      },
      "execution_count": 18,
      "outputs": []
    }
  ]
}