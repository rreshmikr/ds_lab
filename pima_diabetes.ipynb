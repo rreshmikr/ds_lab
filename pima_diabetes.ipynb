{
  "nbformat": 4,
  "nbformat_minor": 0,
  "metadata": {
    "colab": {
      "name": "pima_diabetes.ipynb",
      "provenance": [],
      "collapsed_sections": [],
      "authorship_tag": "ABX9TyN2YOl09eHwb8CjlKxyhBu1",
      "include_colab_link": true
    },
    "kernelspec": {
      "name": "python3",
      "display_name": "Python 3"
    },
    "language_info": {
      "name": "python"
    }
  },
  "cells": [
    {
      "cell_type": "markdown",
      "metadata": {
        "id": "view-in-github",
        "colab_type": "text"
      },
      "source": [
        "<a href=\"https://colab.research.google.com/github/rreshmikr/ds_lab/blob/main/pima_diabetes.ipynb\" target=\"_parent\"><img src=\"https://colab.research.google.com/assets/colab-badge.svg\" alt=\"Open In Colab\"/></a>"
      ]
    },
    {
      "cell_type": "code",
      "execution_count": null,
      "metadata": {
        "colab": {
          "base_uri": "https://localhost:8080/"
        },
        "id": "sUoggXrS1aDy",
        "outputId": "ba888719-a2f7-4f9f-8be1-eabb25ab14cd"
      },
      "outputs": [
        {
          "output_type": "execute_result",
          "data": {
            "text/plain": [
              "(     Pregnancies  Glucose  BloodPressure  ...   BMI  DiabetesPedigreeFunction  Age\n",
              " 0              6      148             72  ...  33.6                     0.627   50\n",
              " 1              1       85             66  ...  26.6                     0.351   31\n",
              " 2              8      183             64  ...  23.3                     0.672   32\n",
              " 3              1       89             66  ...  28.1                     0.167   21\n",
              " 4              0      137             40  ...  43.1                     2.288   33\n",
              " ..           ...      ...            ...  ...   ...                       ...  ...\n",
              " 763           10      101             76  ...  32.9                     0.171   63\n",
              " 764            2      122             70  ...  36.8                     0.340   27\n",
              " 765            5      121             72  ...  26.2                     0.245   30\n",
              " 766            1      126             60  ...  30.1                     0.349   47\n",
              " 767            1       93             70  ...  30.4                     0.315   23\n",
              " \n",
              " [768 rows x 8 columns], 0      1\n",
              " 1      0\n",
              " 2      1\n",
              " 3      0\n",
              " 4      1\n",
              "       ..\n",
              " 763    0\n",
              " 764    0\n",
              " 765    0\n",
              " 766    1\n",
              " 767    0\n",
              " Name: Outcome, Length: 768, dtype: int64)"
            ]
          },
          "metadata": {},
          "execution_count": 1
        }
      ],
      "source": [
        "import pandas as pd\n",
        "df=pd.read_csv(\"./diabetes.csv\")\n",
        "df.head()\n",
        "X=df.drop(\"Outcome\",axis=1)\n",
        "Y=df[\"Outcome\"]\n",
        "X,Y"
      ]
    },
    {
      "cell_type": "code",
      "source": [
        "from sklearn.model_selection import train_test_split\n",
        "from sklearn.naive_bayes import GaussianNB\n",
        "import pandas as pd\n",
        "df=pd.read_csv(\"./diabetes.csv\")\n",
        "df.head()\n",
        "X=df.drop(\"Outcome\",axis=1)\n",
        "y=df[\"Outcome\"]\n",
        "X_train, X_test, y_train, y_test = train_test_split(X, y, test_size = 0.2, random_state=42)\n",
        "gnb = GaussianNB()\n",
        "gnb.fit(X_train, y_train)\n",
        "y_pred1 = gnb.predict(X_test)\n",
        "print(y_pred1)"
      ],
      "metadata": {
        "colab": {
          "base_uri": "https://localhost:8080/"
        },
        "id": "zdPtUYPr7JiB",
        "outputId": "8649a974-8ac0-4a74-abb3-c413d5927748"
      },
      "execution_count": null,
      "outputs": [
        {
          "output_type": "stream",
          "name": "stdout",
          "text": [
            "[0 0 0 0 1 1 0 1 0 1 0 1 1 0 0 0 0 0 1 0 0 0 1 0 1 1 0 0 0 0 1 1 1 1 1 1 1\n",
            " 0 1 0 0 0 0 1 0 1 1 0 0 1 0 1 1 0 0 0 1 0 0 1 1 0 1 1 0 1 0 1 0 1 1 0 0 0\n",
            " 0 1 0 0 0 0 1 0 0 0 0 1 1 0 0 0 0 0 0 0 0 0 0 0 1 0 1 0 1 0 1 0 0 1 0 1 0\n",
            " 0 0 1 0 0 1 0 0 1 0 0 0 0 0 1 0 1 1 1 1 1 0 1 1 0 0 1 1 0 0 0 0 1 0 0 0 0\n",
            " 0 1 0 0 1 0]\n"
          ]
        }
      ]
    },
    {
      "cell_type": "code",
      "source": [
        "from sklearn.metrics import confusion_matrix \n",
        "from sklearn.metrics import classification_report\n",
        "metrics=confusion_matrix(y_test,y_pred1)\n",
        "print(\"confusion matrics:\\n\",metrics)\n"
      ],
      "metadata": {
        "id": "A8Pfjexa7SN5",
        "colab": {
          "base_uri": "https://localhost:8080/"
        },
        "outputId": "3e122e37-ecc1-4a10-9637-efe0fe316503"
      },
      "execution_count": null,
      "outputs": [
        {
          "output_type": "stream",
          "name": "stdout",
          "text": [
            "confusion matrics:\n",
            " [[79 20]\n",
            " [16 39]]\n"
          ]
        }
      ]
    },
    {
      "cell_type": "code",
      "source": [
        "cr=classification_report(y_test,y_pred1)\n",
        "print(\"classification report:\\n\",cr)"
      ],
      "metadata": {
        "id": "V6zsa2Gc7feJ",
        "colab": {
          "base_uri": "https://localhost:8080/"
        },
        "outputId": "9c1a8aaf-5bac-4906-872b-93614f679c5d"
      },
      "execution_count": null,
      "outputs": [
        {
          "output_type": "stream",
          "name": "stdout",
          "text": [
            "classification report:\n",
            "               precision    recall  f1-score   support\n",
            "\n",
            "           0       0.83      0.80      0.81        99\n",
            "           1       0.66      0.71      0.68        55\n",
            "\n",
            "    accuracy                           0.77       154\n",
            "   macro avg       0.75      0.75      0.75       154\n",
            "weighted avg       0.77      0.77      0.77       154\n",
            "\n"
          ]
        }
      ]
    }
  ]
}